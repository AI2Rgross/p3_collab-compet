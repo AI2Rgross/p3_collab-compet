{
 "cells": [
  {
   "cell_type": "markdown",
   "metadata": {},
   "source": [
    "# Collaboration and Competition using ddpg\n",
    "\n",
    "---\n",
    "\n",
    "In this notebook, I use the DDPG baseline and some variation of it to train multiples agents to play tennis in a Unity ML-Agents environment. This project correspond to the third project of the [Deep Reinforcement Learning Nanodegree](https://www.udacity.com/course/deep-reinforcement-learning-nanodegree--nd893) program.\n",
    "\n",
    "## 1. Naive Approach\n",
    "### Start the Environment\n",
    "First, I imports necessary packages. If the code cell below returns an error, please revisit the project instructions to double-check that you have installed [Unity ML-Agents](https://github.com/Unity-Technologies/ml-agents/blob/master/docs/Installation.md) and [NumPy](http://www.numpy.org/)."
   ]
  },
  {
   "cell_type": "code",
   "execution_count": 1,
   "metadata": {},
   "outputs": [],
   "source": [
    "from unityagents import UnityEnvironment\n",
    "from unityagents import UnityEnvironment\n",
    "import numpy as np\n",
    "from collections import deque\n",
    "import matplotlib.pyplot as plt\n",
    "%matplotlib inline\n",
    "import torch\n"
   ]
  },
  {
   "cell_type": "markdown",
   "metadata": {},
   "source": [
    "Before running the next cell, check that the path for the environment is correct. Change the `file_name` parameter to match the location of the Unity environment that you downloaded before.\n",
    "\n",
    "- **Mac**: `\"path/to/Tennis.app\"`\n",
    "- **Windows** (x86): `\"path/to/Tennis_Windows_x86/Tennis.exe\"`\n",
    "- **Windows** (x86_64): `\"path/to/Tennis_Windows_x86_64/Tennis.exe\"`\n",
    "- **Linux** (x86): `\"path/to/Tennis_Linux/Tennis.x86\"`\n",
    "- **Linux** (x86_64): `\"path/to/Tennis_Linux/Tennis.x86_64\"`\n",
    "- **Linux** (x86, headless): `\"path/to/Tennis_Linux_NoVis/Tennis.x86\"`\n",
    "- **Linux** (x86_64, headless): `\"path/to/Tennis_Linux_NoVis/Tennis.x86_64\"`"
   ]
  },
  {
   "cell_type": "code",
   "execution_count": 2,
   "metadata": {},
   "outputs": [
    {
     "name": "stderr",
     "output_type": "stream",
     "text": [
      "INFO:unityagents:\n",
      "'Academy' started successfully!\n",
      "Unity Academy name: Academy\n",
      "        Number of Brains: 1\n",
      "        Number of External Brains : 1\n",
      "        Lesson number : 0\n",
      "        Reset Parameters :\n",
      "\t\t\n",
      "Unity brain name: TennisBrain\n",
      "        Number of Visual Observations (per agent): 0\n",
      "        Vector Observation space type: continuous\n",
      "        Vector Observation space size (per agent): 8\n",
      "        Number of stacked Vector Observation: 3\n",
      "        Vector Action space type: continuous\n",
      "        Vector Action space size (per agent): 2\n",
      "        Vector Action descriptions: , \n"
     ]
    }
   ],
   "source": [
    "env = UnityEnvironment(file_name=\"/home/raphe/Cours/Nanodegree_DRL/Tennis_Linux/Tennis.x86_64\")"
   ]
  },
  {
   "cell_type": "markdown",
   "metadata": {},
   "source": [
    "Environments contain **_brains_** which are responsible for deciding the actions of their associated agents. Here we check for the first brain available, and set it as the default brain we will be controlling from Python."
   ]
  },
  {
   "cell_type": "code",
   "execution_count": 3,
   "metadata": {},
   "outputs": [],
   "source": [
    "# Here we take the brain name  and set it as the default\n",
    "# Environments contain brains which are responsible for deciding the actions of their associated agents\n",
    "# We use 2 agents. Depending on the algorythm used to solve the environement\n",
    "# the agents may collaborate or not. But from a technical point of view one could say that they are indepandant\n",
    "# as they dont evolve in the same space.\n",
    "brain_name = env.brain_names[0]\n",
    "brain = env.brains[brain_name]"
   ]
  },
  {
   "cell_type": "markdown",
   "metadata": {},
   "source": [
    "### Examine the State and Action Spaces\n",
    "\n",
    "As I stated in README.MD, the goal of the two agents is to bounce a ball over a net using a racket as long as possible. If the agent hits the ball over the net, it receives a reward of +0.1. But, if the agent lets the ball hit the ground or hit it oustide of the table, it receives a reward of -0.01.  Thus, the goal of each agent is to keep the ball in play.\n",
    "\n",
    "The observation space consists of 8 variables corresponding to the position and velocity of the ball and racket.\n",
    "Each agent has only two continuous actions available:\n",
    "- moving toward or away the net\n",
    "- jumping. "
   ]
  },
  {
   "cell_type": "code",
   "execution_count": 4,
   "metadata": {},
   "outputs": [
    {
     "name": "stdout",
     "output_type": "stream",
     "text": [
      "Number of agents: 2\n",
      "Size of each action: 2\n",
      "There are 2 agents. Each observes a state with length: 24\n",
      "The state for the first agent looks like: [ 0.          0.          0.          0.          0.          0.\n",
      "  0.          0.          0.          0.          0.          0.\n",
      "  0.          0.          0.          0.         -6.65278625 -1.5\n",
      " -0.          0.          6.83172083  6.         -0.          0.        ]\n"
     ]
    }
   ],
   "source": [
    "# reset the environment\n",
    "env_info = env.reset(train_mode=True)[brain_name]\n",
    "\n",
    "# number of agents \n",
    "num_agents = len(env_info.agents)\n",
    "print('Number of agents:', num_agents)\n",
    "\n",
    "# size of each action\n",
    "action_size = brain.vector_action_space_size\n",
    "print('Size of each action:', action_size)\n",
    "\n",
    "# examine the state space \n",
    "states = env_info.vector_observations\n",
    "state_size = states.shape[1]\n",
    "print('There are {} agents. Each observes a state with length: {}'.format(states.shape[0], state_size))\n",
    "print('The state for the first agent looks like:', states[0])"
   ]
  },
  {
   "cell_type": "markdown",
   "metadata": {},
   "source": [
    "### Take Random Actions in the Environment\n",
    "\n",
    "In the next code cell, I use the Python API to control the agents and receive feedback from the environment.\n",
    "\n",
    "As one can see, the comportement of each agent and his performance are really bad. \n",
    "This is due to the fact that the agent has not yet learned how to play tennis. I use a random function to define the actions values. "
   ]
  },
  {
   "cell_type": "code",
   "execution_count": null,
   "metadata": {},
   "outputs": [],
   "source": []
  },
  {
   "cell_type": "markdown",
   "metadata": {},
   "source": [
    "## Training"
   ]
  },
  {
   "cell_type": "markdown",
   "metadata": {},
   "source": []
  },
  {
   "cell_type": "code",
   "execution_count": 5,
   "metadata": {},
   "outputs": [],
   "source": [
    "import numpy as np\n",
    "\n",
    "import torch\n",
    "import torch.nn as nn\n",
    "import torch.nn.functional as F\n",
    "\n",
    "def hidden_init(layer):\n",
    "    fan_in = layer.weight.data.size()[0]\n",
    "    lim = 1. / np.sqrt(fan_in)\n",
    "    return (-lim, lim)\n",
    "\n",
    "class Actor(nn.Module):\n",
    "    \"\"\"Actor (Policy) Model.\"\"\"\n",
    "\n",
    "    def __init__(self, state_size, action_size, seed=0, fc1_units=512,fc2_units=384):\n",
    "        \"\"\"Initialize parameters and build model.\n",
    "        Params\n",
    "        ======\n",
    "            state_size (int): Dimension of each state\n",
    "            action_size (int): Dimension of each action\n",
    "            seed (int): Random seed\n",
    "            fc1_units (int): Number of nodes in first hidden layer\n",
    "            fc2_units (int): Number of nodes in second hidden layer\n",
    "        \"\"\"\n",
    "        super(Actor, self).__init__()\n",
    "        self.seed = torch.manual_seed(seed)\n",
    "        self.fc1 = nn.Linear(state_size,fc1_units)\n",
    "        self.fc2 = nn.Linear(fc1_units, fc2_units)\n",
    "        self.fc3 = nn.Linear(fc2_units, action_size)\n",
    "        self.reset_parameters()\n",
    "\n",
    "    def reset_parameters(self):\n",
    "        self.fc1.weight.data.uniform_(*hidden_init(self.fc1))\n",
    "        self.fc2.weight.data.uniform_(*hidden_init(self.fc2))\n",
    "        self.fc3.weight.data.uniform_(-3e-2, 3e-2)\n",
    "\n",
    "    def forward(self, state):\n",
    "        \"\"\"Build an actor (policy) network that maps states -> actions.\"\"\"\n",
    "        x = F.relu(self.fc1(state))\n",
    "        x = F.relu(self.fc2(x))\n",
    "        return torch.tanh(self.fc3(x))\n",
    "\n",
    "\n",
    "class Critic(nn.Module):\n",
    "    \"\"\"Critic (Value) Model.\"\"\"\n",
    "\n",
    "    def __init__(self, states_size, actions_size, seed=0, fc1_units=512, fc2_units=384):\n",
    "        \"\"\"Initialize parameters and build model.\n",
    "        Params\n",
    "        ======\n",
    "            state_size (int): Dimension of each state\n",
    "            action_size (int): Dimension of each action\n",
    "            seed (int): Random seed\n",
    "            fcs1_units (int): Number of nodes in the first hidden layer\n",
    "            fc2_units (int): Number of nodes in the second hidden layer\n",
    "        \"\"\"\n",
    "        super(Critic, self).__init__()\n",
    "        self.seed = torch.manual_seed(seed)\n",
    "        self.fc1 = nn.Linear(states_size+actions_size, fc1_units)\n",
    "        self.fc2 = nn.Linear(fc1_units, fc2_units)\n",
    "        self.fc3 = nn.Linear(fc2_units, 1)\n",
    "        self.reset_parameters()\n",
    "\n",
    "    def reset_parameters(self):\n",
    "        self.fc1.weight.data.uniform_(*hidden_init(self.fc1))\n",
    "        self.fc2.weight.data.uniform_(*hidden_init(self.fc2))\n",
    "        self.fc3.weight.data.uniform_(-3e-2, 3e-2)\n",
    "        \n",
    "    def forward(self, states, actions):\n",
    "        \"\"\"Build a critic (value) network that maps (state, action) pairs -> Q-values.\"\"\"\n",
    "        xs = torch.cat((states,actions), dim=1) \n",
    "        xs = F.relu(self.fc1(xs))\n",
    "        x  = F.relu(self.fc2(xs))  \n",
    "        return self.fc3(x)\n",
    "\n"
   ]
  },
  {
   "cell_type": "markdown",
   "metadata": {},
   "source": [
    "### Parameters"
   ]
  },
  {
   "cell_type": "code",
   "execution_count": 6,
   "metadata": {},
   "outputs": [],
   "source": [
    "import numpy as np\n",
    "import random\n",
    "import copy\n",
    "from collections import namedtuple, deque\n",
    "\n",
    "\n",
    "import torch\n",
    "import torch.nn.functional as F\n",
    "import torch.optim as optim\n",
    "\n",
    "BUFFER_SIZE = int(1e5)  # replay buffer size\n",
    "BATCH_SIZE = 128        # minibatch size\n",
    "GAMMA = 1.0         # discount factor\n",
    "TAU = 0.001              # for soft update of target parameters\n",
    "LR_ACTOR = 8e-5         # learning rate of the actor \n",
    "LR_CRITIC = 8e-5        # learning rate of the critic\n",
    "WEIGHT_DECAY = 0.00     # L2 weight decay\n",
    "UPDATE_EVERY=2\n",
    "device = torch.device(\"cuda:0\" if torch.cuda.is_available() else \"cpu\")"
   ]
  },
  {
   "cell_type": "markdown",
   "metadata": {},
   "source": [
    "### Class Noise"
   ]
  },
  {
   "cell_type": "code",
   "execution_count": 7,
   "metadata": {},
   "outputs": [],
   "source": [
    "class OUNoise:\n",
    "    \"\"\"Ornstein-Uhlenbeck process.\"\"\"\n",
    "\n",
    "    def __init__(self, size, seed, mu=0., theta=0.15, sigma=0.2):\n",
    "        \"\"\"Initialize parameters and noise process.\"\"\"\n",
    "        self.size = size\n",
    "        self.mu = mu * np.ones(size)\n",
    "        self.theta = theta\n",
    "        self.sigma = sigma\n",
    "        self.seed = random.seed(seed)\n",
    "        self.reset()\n",
    "\n",
    "    def reset(self):\n",
    "        \"\"\"Reset the internal state (= noise) to mean (mu).\"\"\"\n",
    "        self.state = copy.copy(self.mu)\n",
    "\n",
    "    def sample(self):\n",
    "        \"\"\"Update internal state and return it as a noise sample.\"\"\"\n",
    "        x = self.state\n",
    "        #rnd = np.random.randn(*x.shape) \n",
    "        #rnd = np.random.random(self.size)*2-1 \n",
    "        rnd = np.random.standard_normal(self.size)\n",
    "\n",
    "        dx = self.theta * (self.mu - x) + self.sigma * rnd\n",
    "        self.state = x + dx\n",
    "        return self.state\n"
   ]
  },
  {
   "cell_type": "markdown",
   "metadata": {},
   "source": [
    "### Replay buffer"
   ]
  },
  {
   "cell_type": "code",
   "execution_count": 8,
   "metadata": {},
   "outputs": [],
   "source": [
    "class ReplayBuffer:\n",
    "    \"\"\"Fixed-size buffer to store experience tuples.\"\"\"\n",
    "\n",
    "    def __init__(self, buffer_size, batch_size, seed):\n",
    "        \"\"\"Initialize a ReplayBuffer object.\n",
    "        Params\n",
    "        ======\n",
    "            buffer_size (int): maximum size of buffer\n",
    "            batch_size (int): size of each training batch\n",
    "        \"\"\"\n",
    "\n",
    "        self.memory = deque(maxlen=buffer_size)  # internal memory (deque)\n",
    "        self.batch_size = batch_size\n",
    "        self.experience = namedtuple(\"Experience\", field_names=[\"state\", \"action\", \"reward\", \"next_state\", \"done\"])\n",
    "        random.seed(seed)\n",
    "    \n",
    "    def add(self, state, action, reward, next_state, done):\n",
    "        \"\"\"Add a new experience to memory.\"\"\"\n",
    "        e = self.experience(state, action, reward, next_state, done)\n",
    "        self.memory.append(e)\n",
    " \n",
    "    def sample(self):\n",
    "        \"\"\"Randomly sample a batch of experiences from memory.\"\"\"\n",
    "        experiences = random.sample(self.memory, k=self.batch_size)\n",
    "        states = torch.from_numpy(np.vstack([e.state for e in experiences if e is not None])).float().to(device)\n",
    "        actions = torch.from_numpy(np.vstack([e.action for e in experiences if e is not None])).float().to(device)\n",
    "        rewards = torch.from_numpy(np.vstack([e.reward for e in experiences if e is not None])).float().to(device)\n",
    "        next_states = torch.from_numpy(np.vstack([e.next_state for e in experiences if e is not None])).float().to(device)\n",
    "        dones = torch.from_numpy(np.vstack([e.done for e in experiences if e is not None]).astype(np.uint8)).float().to(device)\n",
    " \n",
    "        return states, actions, rewards, next_states, dones\n",
    "\n",
    "    def __len__(self):\n",
    "        \"\"\"Return the current size of internal memory.\"\"\"\n",
    "        return len(self.memory)\n"
   ]
  },
  {
   "cell_type": "markdown",
   "metadata": {},
   "source": [
    "### Class agent "
   ]
  },
  {
   "cell_type": "code",
   "execution_count": 9,
   "metadata": {},
   "outputs": [],
   "source": [
    "class Agent():\n",
    "    \"\"\"Interacts with and learns from the environment.\"\"\"\n",
    "    \n",
    "    def __init__(self, state_size, action_size,nb_agent, random_seed=0):\n",
    "        \"\"\"Initialize an Agent object.\n",
    "        \n",
    "        Params\n",
    "        ======\n",
    "            state_size (int): dimension of each state\n",
    "            action_size (int): dimension of each action\n",
    "            random_seed (int): random seed\n",
    "        \"\"\"\n",
    "        self.state_size = state_size\n",
    "        self.action_size = action_size\n",
    "        self.states_size = state_size*nb_agent\n",
    "        self.actions_size = action_size*nb_agent\n",
    "       # self.seed = random.seed(random_seed)\n",
    "        self.rate=1\n",
    "        # Actor Network (w/ Target Network)\n",
    "        self.actor_local = Actor(self.state_size, self.action_size).to(device)\n",
    "        self.actor_target = Actor(self.state_size, self.action_size).to(device)\n",
    "        self.actor_optimizer = optim.Adam(self.actor_local.parameters(), lr=LR_ACTOR)\n",
    "\n",
    "        # Critic Network (w/ Target Network)\n",
    "        self.critic_local = Critic(self.states_size, self.actions_size).to(device)\n",
    "        self.critic_target = Critic(self.states_size, self.actions_size).to(device)\n",
    "        self.critic_optimizer = optim.Adam(self.critic_local.parameters(), lr=LR_CRITIC, weight_decay=WEIGHT_DECAY)\n",
    "\n",
    "        # Noise process\n",
    "        self.noise = OUNoise(self.action_size, random_seed)\n",
    "\n",
    "\n",
    "    def act(self, state, add_noise=True,rate=0.99):\n",
    "        \"\"\"Returns actions for given state as per current policy.\"\"\"\n",
    "        state = torch.from_numpy(state).float().to(device)\n",
    "        self.actor_local.eval()\n",
    "        self.rate=rate*self.rate\n",
    "        with torch.no_grad():\n",
    "            action = self.actor_local(state).cpu().data.numpy()\n",
    "        self.actor_local.train()\n",
    "        if add_noise:\n",
    "            action += self.noise.sample()*self.rate\n",
    "        return np.clip(action, -1, 1)\n",
    "\n",
    "    def reset(self):\n",
    "        self.noise.reset()\n",
    "       \n",
    "    def learn(self,states, actions, reward, next_states,done,actions_next,actions_pred,gamma):\n",
    "        \"\"\"Update policy and value parameters using given batch of experience tuples.\n",
    "        Q_targets = r + γ * critic_target(next_state, actor_target(next_state))\n",
    "        where:\n",
    "            actor_target(state) -> action\n",
    "            critic_target(state, action) -> Q-value\n",
    "\n",
    "        Params\n",
    "        ======\n",
    "            experiences (Tuple[torch.Tensor]): tuple of (s, a, r, s', done) tuples \n",
    "            gamma (float): discount factor\n",
    "        \"\"\"\n",
    "        # ---------------------------- update critic ---------------------------- #\n",
    "\n",
    "        # Compute Q targets for current states (y_i)\n",
    "       # print(\"\\nnext s\\n\",next_states)\n",
    "       # print(\"\\nactions_n\\n\",actions_next)\n",
    "        with torch.no_grad():\n",
    "            Q_targets_next = self.critic_target(next_states, actions_next).detach()          \n",
    "            Q_targets = reward + (gamma * Q_targets_next.squeeze(1) * (1 - done))\n",
    "        # Compute critic loss\n",
    "        #print(\"\\n test\\n\",(1 - done))\n",
    "        #print(\"\\n test\\n\",Q_targets_next)\n",
    "        #print(\"\\nQ_target \\n\",Q_targets)\n",
    "        Q_expected = self.critic_local(states, actions)\n",
    "        #print(\"\\nQ_expect \\n\",Q_expected.squeeze(1))\n",
    "        critic_loss = F.mse_loss(Q_expected.squeeze(1), Q_targets.detach())\n",
    "        #print(\"critic\",critic_loss)\n",
    "        # Minimize the loss\n",
    "        self.critic_optimizer.zero_grad()\n",
    "        critic_loss.backward()\n",
    "        self.critic_optimizer.step()\n",
    "\n",
    "        # ---------------------------- update actor ---------------------------- #\n",
    "        # Compute actor loss       \n",
    "        actor_loss = -self.critic_local(states, actions_pred).mean()\n",
    "        # Minimize the loss\n",
    "        #print(\"\\n c and a {}\\t {}\\t:\".format(critic_loss,actor_loss))\n",
    "        self.actor_optimizer.zero_grad()\n",
    "        actor_loss.backward()\n",
    "        self.actor_optimizer.step()\n",
    "\n",
    "        # ----------------------- update target networks ----------------------- #\n",
    "        self.soft_update(self.critic_local, self.critic_target, TAU)\n",
    "        self.soft_update(self.actor_local,self.actor_target, TAU)                     \n",
    "\n",
    "    def soft_update(self, local_model, target_model, tau):\n",
    "        \"\"\"Soft update model parameters.\n",
    "        θ_target = τ*θ_local + (1 - τ)*θ_target\n",
    "\n",
    "        Params\n",
    "        ======\n",
    "            local_model: PyTorch model (weights will be copied from)\n",
    "            target_model: PyTorch model (weights will be copied to)\n",
    "            tau (float): interpolation parameter \n",
    "        \"\"\"\n",
    "        for target_param, local_param in zip(target_model.parameters(), local_model.parameters()):\n",
    "            target_param.data.copy_(tau*local_param.data + (1.0-tau)*target_param.data)                "
   ]
  },
  {
   "cell_type": "code",
   "execution_count": 10,
   "metadata": {},
   "outputs": [],
   "source": [
    "class maddpg:\n",
    "\n",
    "    def __init__(self, state_size, action_size,nb_agent=1 ,random_seed=0):\n",
    "            # Replay memory\n",
    "        self.memory = ReplayBuffer( BUFFER_SIZE, BATCH_SIZE, random_seed)\n",
    "        \n",
    "    def add_buffer(self,states, actions, rewards, next_states, dones):\n",
    "        self.memory.add(states, actions, rewards, next_states, dones)\n",
    "\n",
    "    def sample_buffer(self,agent,ind):\n",
    "        states, actions, rewards, next_states, dones = self.memory.sample()\n",
    "        return states.to(device).detach(),actions.to(device).detach(),rewards.to(device).detach(), dones.to(device).detach(),next_states.to(device).detach()    \n",
    "    \n",
    "    def step(self,agent,nb_agent):\n",
    "            if(BATCH_SIZE< len(self.memory)):\n",
    "                for id_agent in range(nb_agent):\n",
    "                    states, actions, rewards,dones, next_states=MADDPG.sample_buffer(agent,id_agent)\n",
    "                    \n",
    "                    tstates=states.view(BATCH_SIZE,nb_agent,24)\n",
    "                    tactions=actions.view(BATCH_SIZE,nb_agent,2)\n",
    "                    next_state=next_states.view(BATCH_SIZE,nb_agent,24)\n",
    "\n",
    "                    action_next=[]\n",
    "                    for i in range(nb_agent):\n",
    "                        action_next.append(agent[i].actor_target(next_state[:,i,:]))                       \n",
    "                    actions_next=torch.cat(action_next,dim=1).detach()\n",
    "                                        \n",
    "                    local_action=[]\n",
    "                    for i in range(nb_agent):\n",
    "                        if(i==id_agent):\n",
    "                            local_action.append(agent[id_agent].actor_local(tstates[:,id_agent,:]))\n",
    "                        else:\n",
    "                            local_action.append(tactions[:,i,:].detach())\n",
    "                    actions_pred=torch.cat(local_action,dim=1) \n",
    "                    \n",
    "                    reward=rewards.view(BATCH_SIZE,nb_agent)[:,id_agent]\n",
    "                    done=dones.view(BATCH_SIZE,nb_agent)[:,id_agent]                   \n",
    "\n",
    " \n",
    "                    \n",
    "                \n",
    "                    agent[i].learn( tstates.view(BATCH_SIZE,48),\\\n",
    "                                  tactions.view(BATCH_SIZE,4),\\\n",
    "                                  reward,\\\n",
    "                                  next_states.view(BATCH_SIZE,48),\\\n",
    "                                  done,\\\n",
    "                                  actions_next,\\\n",
    "                                  actions_pred,\\\n",
    "                                  GAMMA)\n"
   ]
  },
  {
   "cell_type": "markdown",
   "metadata": {},
   "source": []
  },
  {
   "cell_type": "code",
   "execution_count": 11,
   "metadata": {},
   "outputs": [],
   "source": [
    "nb_agent=2\n",
    "agent =[Agent(state_size, action_size,nb_agent, 1234) for i in range(nb_agent)]\n",
    "MADDPG = maddpg(state_size, action_size,2 ,random_seed=0)"
   ]
  },
  {
   "cell_type": "code",
   "execution_count": 12,
   "metadata": {},
   "outputs": [],
   "source": [
    "def multi_ddpg(env, env_info, state_size, action_size, brain_name,nb_agent, agent,MADDPG,n_episodes=6000, max_t=1000):\n",
    "    scores_deque = deque(maxlen=100)\n",
    "    scores = []\n",
    "    iteration=0\n",
    "    for i_episode in range(1, n_episodes):\n",
    "        env_info = env.reset(train_mode=True)[brain_name]  # reset the environment\n",
    "        states = env_info.vector_observations  # get the current state (for each agent)\n",
    "        [agent[i].reset() for i in range(nb_agent)] # reset the noise added to the state. Makes the training more robust.\n",
    "        score=np.zeros(num_agents)  # initialize the score (for each agent)\n",
    "        for t in range(max_t):\n",
    "           # actions = agent.act(states)\n",
    "            actions = [agent[i].act(states[i],0.95,i) for i in range(nb_agent)] # get action from each agent based on the current state\n",
    "            env_info = env.step(actions)[brain_name]  # update environment informations with the actions of each agent\n",
    "            next_states = env_info.vector_observations  # get next state (for each agent)\n",
    "            rewards = env_info.rewards  # get reward (for each agent)\n",
    "            score = score+rewards  # update the score for each agent\n",
    "            dones = env_info.local_done  # see if episode finished\n",
    "            # agent[i].step: add (states,actions,rewards,next_states) to replay buffer of each agent \n",
    "            # train the actor critic Neural Network of each agent\n",
    "            # each agent share the same information\n",
    "            MADDPG.add_buffer(states, actions, rewards, next_states, dones)\n",
    "            MADDPG.step(agent,nb_agent)\n",
    "            states = next_states # roll over the state to next time step\n",
    " \n",
    "            if any(dones):\n",
    "                break\n",
    "                \n",
    "        scores.append(np.max(score)) # save the best agent score for display\n",
    "        scores_deque.append(np.max(score)) # save the best agent score into the windows for convergence checking\n",
    "      #  print('Episode {}\\t Average Score: {:.4E}\\t: reward:{} critic:{:.4E}\\t actor:{:.4E}\\t'.format(i_episode, np.mean(scores_deque), np.max(score),critic,actor), end=\"\")\n",
    "        if i_episode>100 and np.mean(scores_deque)>0.5: # check if env is solved\n",
    "            print(\"envionment solved\")\n",
    "            [torch.save(agent[i].actor_local.state_dict(), 'multi_checkpoint_actor'+str(i)+'.pth') for i in range(num_agents)] # save actor weights for each agents\n",
    "            [torch.save(agent[i].critic_local.state_dict(), 'multi_checkpoint_critic'+str(i)+'.pth') for i in range(num_agents)] # save critic weights for each agents\n",
    "            return scores\n",
    "        \n",
    "        if (score[0]>0. or score[1]>0.):\n",
    "            print('E {}\\t A Score: {:.4E}\\t: R0__{:.4E}\\t R1__{:.4E}\\t ok\\n'.format(i_episode, np.mean(scores_deque), score[0],score[1]), end=\"\")\n",
    "        else:\n",
    "            print('E {}\\t A Score: {:.4E}\\t: R0__{:.4E}\\t R1__{:.4E}\\t\\n'.format(i_episode, np.mean(scores_deque), score[0],score[1]), end=\"\")\n",
    "\n",
    "        #    [torch.save(agent.actor_local[i].state_dict(), 'multi_checkpoint_actor'+str(i)+'.pth') for i in range(num_agents)] # save actor weights for each agents\n",
    "        #    [torch.save(agent.critic_local[i].state_dict(), 'multi_checkpoint_critic'+str(i)+'.pth') for i in range(num_agents)] # save critic weights for each agents\n",
    "   \n",
    "    return scores"
   ]
  },
  {
   "cell_type": "code",
   "execution_count": null,
   "metadata": {
    "scrolled": true
   },
   "outputs": [
    {
     "name": "stdout",
     "output_type": "stream",
     "text": [
      "E 1\t A Score: 0.0000E+00\t: R0__0.0000E+00\t R1__-1.0000E-02\t\n",
      "E 2\t A Score: 5.0000E-02\t: R0__-1.0000E-02\t R1__1.0000E-01\t ok\n",
      "E 3\t A Score: 3.3333E-02\t: R0__0.0000E+00\t R1__-1.0000E-02\t\n",
      "E 4\t A Score: 2.5000E-02\t: R0__0.0000E+00\t R1__-1.0000E-02\t\n",
      "E 5\t A Score: 2.0000E-02\t: R0__0.0000E+00\t R1__-1.0000E-02\t\n",
      "E 6\t A Score: 1.6667E-02\t: R0__-1.0000E-02\t R1__0.0000E+00\t\n",
      "E 7\t A Score: 2.8571E-02\t: R0__-1.0000E-02\t R1__1.0000E-01\t ok\n",
      "E 8\t A Score: 2.5000E-02\t: R0__-1.0000E-02\t R1__0.0000E+00\t\n",
      "E 9\t A Score: 2.2222E-02\t: R0__0.0000E+00\t R1__-1.0000E-02\t\n",
      "E 10\t A Score: 2.0000E-02\t: R0__0.0000E+00\t R1__-1.0000E-02\t\n",
      "E 11\t A Score: 1.8182E-02\t: R0__0.0000E+00\t R1__-1.0000E-02\t\n",
      "E 12\t A Score: 1.6667E-02\t: R0__0.0000E+00\t R1__-1.0000E-02\t\n",
      "E 13\t A Score: 1.5385E-02\t: R0__0.0000E+00\t R1__-1.0000E-02\t\n",
      "E 14\t A Score: 1.4286E-02\t: R0__0.0000E+00\t R1__-1.0000E-02\t\n",
      "E 15\t A Score: 1.3333E-02\t: R0__0.0000E+00\t R1__-1.0000E-02\t\n",
      "E 16\t A Score: 1.2500E-02\t: R0__0.0000E+00\t R1__-1.0000E-02\t\n",
      "E 17\t A Score: 1.1765E-02\t: R0__-1.0000E-02\t R1__0.0000E+00\t\n",
      "E 18\t A Score: 1.1111E-02\t: R0__-1.0000E-02\t R1__0.0000E+00\t\n",
      "E 19\t A Score: 1.0526E-02\t: R0__-1.0000E-02\t R1__0.0000E+00\t\n",
      "E 20\t A Score: 1.0000E-02\t: R0__-1.0000E-02\t R1__0.0000E+00\t\n",
      "E 21\t A Score: 9.5238E-03\t: R0__0.0000E+00\t R1__-1.0000E-02\t\n",
      "E 22\t A Score: 9.0909E-03\t: R0__0.0000E+00\t R1__-1.0000E-02\t\n",
      "E 23\t A Score: 8.6957E-03\t: R0__0.0000E+00\t R1__-1.0000E-02\t\n",
      "E 24\t A Score: 8.3333E-03\t: R0__0.0000E+00\t R1__-1.0000E-02\t\n",
      "E 25\t A Score: 1.2000E-02\t: R0__1.0000E-01\t R1__-1.0000E-02\t ok\n",
      "E 26\t A Score: 1.1538E-02\t: R0__0.0000E+00\t R1__-1.0000E-02\t\n",
      "E 27\t A Score: 1.1111E-02\t: R0__0.0000E+00\t R1__-1.0000E-02\t\n",
      "E 28\t A Score: 1.0714E-02\t: R0__0.0000E+00\t R1__-1.0000E-02\t\n",
      "E 29\t A Score: 1.0345E-02\t: R0__0.0000E+00\t R1__-1.0000E-02\t\n",
      "E 30\t A Score: 1.0000E-02\t: R0__0.0000E+00\t R1__-1.0000E-02\t\n",
      "E 31\t A Score: 9.6774E-03\t: R0__-1.0000E-02\t R1__0.0000E+00\t\n",
      "E 32\t A Score: 9.3750E-03\t: R0__0.0000E+00\t R1__-1.0000E-02\t\n",
      "E 33\t A Score: 9.0909E-03\t: R0__0.0000E+00\t R1__-1.0000E-02\t\n",
      "E 34\t A Score: 8.8235E-03\t: R0__-1.0000E-02\t R1__0.0000E+00\t\n",
      "E 35\t A Score: 8.5714E-03\t: R0__-1.0000E-02\t R1__0.0000E+00\t\n",
      "E 36\t A Score: 8.3333E-03\t: R0__0.0000E+00\t R1__-1.0000E-02\t\n",
      "E 37\t A Score: 8.1081E-03\t: R0__0.0000E+00\t R1__-1.0000E-02\t\n",
      "E 38\t A Score: 7.8947E-03\t: R0__-1.0000E-02\t R1__0.0000E+00\t\n",
      "E 39\t A Score: 7.6923E-03\t: R0__0.0000E+00\t R1__-1.0000E-02\t\n",
      "E 40\t A Score: 7.5000E-03\t: R0__0.0000E+00\t R1__-1.0000E-02\t\n",
      "E 41\t A Score: 7.3171E-03\t: R0__-1.0000E-02\t R1__0.0000E+00\t\n",
      "E 42\t A Score: 7.1429E-03\t: R0__-1.0000E-02\t R1__0.0000E+00\t\n",
      "E 43\t A Score: 6.9767E-03\t: R0__0.0000E+00\t R1__-1.0000E-02\t\n",
      "E 44\t A Score: 6.8182E-03\t: R0__0.0000E+00\t R1__-1.0000E-02\t\n",
      "E 45\t A Score: 6.6667E-03\t: R0__0.0000E+00\t R1__-1.0000E-02\t\n",
      "E 46\t A Score: 6.5217E-03\t: R0__-1.0000E-02\t R1__0.0000E+00\t\n",
      "E 47\t A Score: 6.3830E-03\t: R0__-1.0000E-02\t R1__0.0000E+00\t\n",
      "E 48\t A Score: 6.2500E-03\t: R0__0.0000E+00\t R1__-1.0000E-02\t\n",
      "E 49\t A Score: 6.1224E-03\t: R0__0.0000E+00\t R1__-1.0000E-02\t\n",
      "E 50\t A Score: 6.0000E-03\t: R0__-1.0000E-02\t R1__0.0000E+00\t\n",
      "E 51\t A Score: 5.8824E-03\t: R0__0.0000E+00\t R1__-1.0000E-02\t\n",
      "E 52\t A Score: 5.7692E-03\t: R0__0.0000E+00\t R1__-1.0000E-02\t\n",
      "E 53\t A Score: 5.6604E-03\t: R0__0.0000E+00\t R1__-1.0000E-02\t\n",
      "E 54\t A Score: 5.5556E-03\t: R0__0.0000E+00\t R1__-1.0000E-02\t\n",
      "E 55\t A Score: 5.4545E-03\t: R0__0.0000E+00\t R1__-1.0000E-02\t\n",
      "E 56\t A Score: 5.3571E-03\t: R0__0.0000E+00\t R1__-1.0000E-02\t\n"
     ]
    }
   ],
   "source": [
    "scores = multi_ddpg(env, env_info, state_size, action_size, brain_name,num_agents, agent,MADDPG,4000,1000)"
   ]
  },
  {
   "cell_type": "code",
   "execution_count": null,
   "metadata": {},
   "outputs": [],
   "source": [
    "#Episode 1972\tAverage Score: 0.5029000074975193\tScore: 1.0000000149011612envionment solved"
   ]
  },
  {
   "cell_type": "markdown",
   "metadata": {},
   "source": [
    "#### Display results for training\n",
    "\n",
    "##### Score"
   ]
  },
  {
   "cell_type": "code",
   "execution_count": null,
   "metadata": {},
   "outputs": [],
   "source": [
    "fig = plt.figure()\n",
    "ax = fig.add_subplot(111)\n",
    "plt.plot(np.arange(1, len(scores)+1), scores)\n",
    "plt.ylabel('Score')\n",
    "plt.xlabel('Episode #')\n",
    "plt.show()"
   ]
  },
  {
   "cell_type": "markdown",
   "metadata": {},
   "source": [
    "#### End of training"
   ]
  },
  {
   "cell_type": "code",
   "execution_count": null,
   "metadata": {},
   "outputs": [],
   "source": [
    "#env.close()"
   ]
  },
  {
   "cell_type": "markdown",
   "metadata": {},
   "source": [
    "### 2. Test\n",
    "\n",
    "#### Load libraries"
   ]
  },
  {
   "cell_type": "code",
   "execution_count": null,
   "metadata": {},
   "outputs": [],
   "source": [
    "from unityagents import UnityEnvironment\n",
    "import numpy as np\n",
    "from collections import deque\n",
    "import matplotlib.pyplot as plt\n",
    "%matplotlib inline\n",
    "import torch\n",
    " "
   ]
  },
  {
   "cell_type": "markdown",
   "metadata": {},
   "source": [
    "#### Define testing function"
   ]
  },
  {
   "cell_type": "code",
   "execution_count": null,
   "metadata": {},
   "outputs": [],
   "source": [
    "def ddpg_Test(env,brain_name,num_agents,agent,file_name_actor,file_name_critic,n_episodes=6000, max_t=1000):\n",
    "    \"\"\" Visualize agent using saved checkpoint. \"\"\"\n",
    "    # load saved weights\n",
    "    agent.actor_local.load_state_dict(torch.load(file_name_actor))\n",
    "    agent.critic_local.load_state_dict(torch.load(file_name_critic)) \n",
    "    scores = []  # list containing scores from each episode\n",
    " \n",
    "    for i_episode in range(1, n_episodes):\n",
    "        env_info = env.reset(train_mode=False)[brain_name]  # environment informations\n",
    "        states = env_info.vector_observations \n",
    "        agent.reset()\n",
    "        score = np.zeros(num_agents) \n",
    "        for t in range(max_t):\n",
    "            actions = agent.act(states,rate=0.9999) # get action using the DDPG algorythme (for each agent)\n",
    "            env_info = env.step(actions)[brain_name]  # update environment informations with the actions of each agent\n",
    "            next_states = env_info.vector_observations  # get next state (for each agent)\n",
    "            rewards = env_info.rewards  # get reward (for each agent)\n",
    "            dones = env_info.local_done  # see if episode finished\n",
    "            states = next_states  # roll over the state to next time step\n",
    "            score =score+ rewards  # update the score for each agent\n",
    "            if any(dones):  # see if episode has finished\n",
    "                break\n",
    "        print('\\rEpisode {}\\tAverage Score: {}, touch: {}'.format(i_episode, np.max(score),t), end=\"\")\n",
    "        scores.append(np.max(score)) # save the best score between both agents\n",
    "\n",
    "    return scores\n",
    "\n"
   ]
  },
  {
   "cell_type": "code",
   "execution_count": null,
   "metadata": {},
   "outputs": [],
   "source": [
    "def double_ddpg_Test(env,brain_name,num_agents,agent,file_name_actor,file_name_critic,n_episodes=6000, max_t=1000):\n",
    "    \"\"\" Visualize agent using saved checkpoint. \"\"\"\n",
    "    # load saved weights\n",
    "    for i in range(num_agents):\n",
    "        agent.actor_local[i].load_state_dict(torch.load(file_name_actor[i]))\n",
    "        agent.critic_local[i].load_state_dict(torch.load(file_name_critic[i])) \n",
    "        \n",
    "    scores = []                        # list containing scores from each episode\n",
    "    score = 0\n",
    " \n",
    "    for i_episode in range(1, n_episodes):\n",
    "        env_info = env.reset(train_mode=False)[brain_name]\n",
    "        states = env_info.vector_observations \n",
    "        agent.reset() \n",
    "        score = np.zeros(num_agents) \n",
    "        for t in range(max_t):\n",
    "            actions = [agent.act(states[i],rate=0.95,ind=i) for i in range(nb_agent)] # get action from each agent based on the current state\n",
    "            env_info = env.step(actions)[brain_name] \n",
    "            next_states = env_info.vector_observations         # get next state (for each agent)\n",
    "            rewards = env_info.rewards                         # get reward (for each agent)\n",
    "            dones = env_info.local_done                        # see if episode finished\n",
    "            #agent.step(states, actions, rewards, next_states, dones,num_agents)\n",
    "            states = next_states\n",
    "            score =score+ rewards\n",
    "            if any(dones):\n",
    "                break\n",
    "        scores.append(np.max(score)) # save the best score between both agents\n",
    "    print('\\rEpisode {}\\tAverage Score: {}'.format(i_episode, np.max(score)), end=\"\")\n",
    "    return scores"
   ]
  },
  {
   "cell_type": "markdown",
   "metadata": {},
   "source": [
    "#### Load environment"
   ]
  },
  {
   "cell_type": "code",
   "execution_count": null,
   "metadata": {},
   "outputs": [],
   "source": [
    "#env = UnityEnvironment(file_name=\"/home/raphe/Cours/Nanodegree_DRL/Tennis_Linux/Tennis.x86_64\")"
   ]
  },
  {
   "cell_type": "code",
   "execution_count": null,
   "metadata": {
    "scrolled": true
   },
   "outputs": [],
   "source": [
    "# reset the environment\n",
    "env_info = env.reset(train_mode=False)[brain_name]\n",
    "\n",
    "# number of agents \n",
    "num_agents = len(env_info.agents)\n",
    "print('Number of agents:', num_agents)\n",
    "\n",
    "# size of each action\n",
    "action_size = brain.vector_action_space_size\n",
    "print('Size of each action:', action_size)\n",
    "\n",
    "# examine the state space \n",
    "states = env_info.vector_observations\n",
    "state_size = states.shape[1]\n",
    "print('There are {} agents. Each observes a state with length: {}'.format(states.shape[0], state_size))\n",
    "print('The state for the first agent looks like:', states[0])\n",
    "nb_agent=2"
   ]
  },
  {
   "cell_type": "code",
   "execution_count": null,
   "metadata": {},
   "outputs": [],
   "source": [
    "agent =Agent(state_size=state_size, action_size=action_size,nb_agent=2, random_seed=1234)"
   ]
  },
  {
   "cell_type": "markdown",
   "metadata": {},
   "source": [
    "#### Define the weights"
   ]
  },
  {
   "cell_type": "code",
   "execution_count": null,
   "metadata": {},
   "outputs": [],
   "source": [
    "file_name_actor=[]\n",
    "file_name_critic=[]\n",
    "for i in range(num_agents):\n",
    "    file_name_actor.append('multi_checkpoint_actor'+str(i)+'.pth')\n",
    "    file_name_critic.append('multi_checkpoint_critic'+str(i)+'.pth')"
   ]
  },
  {
   "cell_type": "markdown",
   "metadata": {},
   "source": [
    "#### Load the weight, start testing"
   ]
  },
  {
   "cell_type": "code",
   "execution_count": null,
   "metadata": {},
   "outputs": [],
   "source": [
    "scores=double_ddpg_Test(env,brain_name,num_agents,agent,file_name_actor,file_name_critic ,n_episodes=20,max_t=100)"
   ]
  },
  {
   "cell_type": "markdown",
   "metadata": {},
   "source": [
    " #### Display score"
   ]
  },
  {
   "cell_type": "code",
   "execution_count": null,
   "metadata": {},
   "outputs": [],
   "source": [
    "fig = plt.figure()\n",
    "ax = fig.add_subplot(111)\n",
    "plt.plot(np.arange(1, len(scores)+1), scores)\n",
    "plt.ylabel('Score')\n",
    "plt.xlabel('Episode #')\n",
    "plt.show()"
   ]
  },
  {
   "cell_type": "markdown",
   "metadata": {},
   "source": [
    "#### End of testing"
   ]
  },
  {
   "cell_type": "code",
   "execution_count": null,
   "metadata": {},
   "outputs": [],
   "source": [
    "env.close()"
   ]
  },
  {
   "cell_type": "code",
   "execution_count": null,
   "metadata": {},
   "outputs": [],
   "source": []
  }
 ],
 "metadata": {
  "kernelspec": {
   "display_name": "Python 3",
   "language": "python",
   "name": "python3"
  },
  "language_info": {
   "codemirror_mode": {
    "name": "ipython",
    "version": 3
   },
   "file_extension": ".py",
   "mimetype": "text/x-python",
   "name": "python",
   "nbconvert_exporter": "python",
   "pygments_lexer": "ipython3",
   "version": "3.5.2"
  }
 },
 "nbformat": 4,
 "nbformat_minor": 2
}
