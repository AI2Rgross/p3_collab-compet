{
 "cells": [
  {
   "cell_type": "markdown",
   "metadata": {},
   "source": [
    "# Collaboration and Competition using ddpg and multi agent ddpg\n",
    "\n",
    "---\n",
    "\n",
    "In this notebook, I use the DDPG baseline and a variation of it to train multiples agents to play tennis in a Unity ML-Agents environment. This project correspond to the third project of the [Deep Reinforcement Learning Nanodegree](https://www.udacity.com/course/deep-reinforcement-learning-nanodegree--nd893) program.\n",
    "\n",
    "I wanted to increase progressivly the difficulty starting from the baseline DDPG method up to the MADDPG method. However, I am still having issue with the MADDPG version I implemented. Therefore, I will only present the DDPG variations I implemented for now.\n",
    "\n",
    "I first implemented the baseline ddpg method where I use one agent to play with both racket. In orther word, the agent play with/against himself. Then, in the second part, I use two agents. Each of them use the baseline ddpg method. In this second part, agents can either share memory or not but they can not communicate (the actor and critic do not take into account other agent state and action). In the third part, I did the testing of each model.\n",
    "\n",
    "# PART I: Introduction with random decision making\n",
    "In this part, I introduce the environment and also the API use to play tennis. You can see two agents playing tennis at the end. Their decisions are made without any knowledge of how to play tennis (random value of actions).\n",
    "Please, run I.1.a and I.1.b in this part before trying to run the other two part as I load libraries and define the environment in it.\n",
    " \n",
    "##  I.1 Start the Environment and load libraries\n",
    "First, I imports necessary packages. If the code cell below returns an error, please revisit the project instructions to double-check that you have installed [Unity ML-Agents](https://github.com/Unity-Technologies/ml-agents/blob/master/docs/Installation.md) and [NumPy](http://www.numpy.org/)."
   ]
  },
  {
   "cell_type": "markdown",
   "metadata": {},
   "source": [
    "### I.1.a Load libraries"
   ]
  },
  {
   "cell_type": "code",
   "execution_count": 1,
   "metadata": {},
   "outputs": [],
   "source": [
    "from unityagents import UnityEnvironment\n",
    "from unityagents import UnityEnvironment\n",
    "import numpy as np\n",
    "from collections import deque\n",
    "import matplotlib.pyplot as plt\n",
    "%matplotlib inline\n",
    "import torch\n",
    "from agent import Agent\n",
    "from ihm_functions import plot_score, Load_environment,ddpg,multi_ddpg,ddpg_Test,double_ddpg_Test"
   ]
  },
  {
   "cell_type": "markdown",
   "metadata": {},
   "source": [
    "### I.1.b Environment path"
   ]
  },
  {
   "cell_type": "markdown",
   "metadata": {},
   "source": [
    "Before running the next cell, check that the path for the environment is correct. Change the `file_name` parameter to match the location of the Unity environment that you downloaded before.\n",
    "\n",
    "- **Mac**: `\"path/to/Tennis.app\"`\n",
    "- **Windows** (x86): `\"path/to/Tennis_Windows_x86/Tennis.exe\"`\n",
    "- **Windows** (x86_64): `\"path/to/Tennis_Windows_x86_64/Tennis.exe\"`\n",
    "- **Linux** (x86): `\"path/to/Tennis_Linux/Tennis.x86\"`\n",
    "- **Linux** (x86_64): `\"path/to/Tennis_Linux/Tennis.x86_64\"`\n",
    "- **Linux** (x86, headless): `\"path/to/Tennis_Linux_NoVis/Tennis.x86\"`\n",
    "- **Linux** (x86_64, headless): `\"path/to/Tennis_Linux_NoVis/Tennis.x86_64\"`"
   ]
  },
  {
   "cell_type": "code",
   "execution_count": 2,
   "metadata": {
    "scrolled": true
   },
   "outputs": [],
   "source": [
    "file_name=\"/home/raphe/Cours/Nanodegree_DRL/Tennis_Linux/Tennis.x86_64\""
   ]
  },
  {
   "cell_type": "markdown",
   "metadata": {},
   "source": [
    "### I.1.c Charge environment"
   ]
  },
  {
   "cell_type": "code",
   "execution_count": 3,
   "metadata": {},
   "outputs": [
    {
     "name": "stderr",
     "output_type": "stream",
     "text": [
      "INFO:unityagents:\n",
      "'Academy' started successfully!\n",
      "Unity Academy name: Academy\n",
      "        Number of Brains: 1\n",
      "        Number of External Brains : 1\n",
      "        Lesson number : 0\n",
      "        Reset Parameters :\n",
      "\t\t\n",
      "Unity brain name: TennisBrain\n",
      "        Number of Visual Observations (per agent): 0\n",
      "        Vector Observation space type: continuous\n",
      "        Vector Observation space size (per agent): 8\n",
      "        Number of stacked Vector Observation: 3\n",
      "        Vector Action space type: continuous\n",
      "        Vector Action space size (per agent): 2\n",
      "        Vector Action descriptions: , \n"
     ]
    }
   ],
   "source": [
    "env = UnityEnvironment(file_name)"
   ]
  },
  {
   "cell_type": "markdown",
   "metadata": {},
   "source": [
    "### I.1.d Define the brains\n",
    "Environments contain **_brains_** which are responsible for deciding the actions of their associated agents. Here we check for the first brain available, and set it as the default brain we will be controlling from Python.\n",
    "Here, we take the brain name and set it as default. Brains are responsible to manage the associated unity environment using agents action. We normaly use 2 agents. However, depending on the algorythm used to solve the environement it is possible to use only one."
   ]
  },
  {
   "cell_type": "code",
   "execution_count": 4,
   "metadata": {},
   "outputs": [],
   "source": [
    "brain_name = env.brain_names[0]\n",
    "brain = env.brains[brain_name]"
   ]
  },
  {
   "cell_type": "markdown",
   "metadata": {},
   "source": [
    "## I.2 Examine the State and Action Spaces\n",
    "\n",
    "As I stated in README.md, the goal of agents is to bounce a ball over a net using a racket as long as possible. If agents hit the ball over the net, they receive a reward of +0.1. But, if the ball hit the ground or is off limit (oustide of the table), the agent receives a reward of -0.01.  Thus, the goal of each agent is to keep the ball in play.\n",
    "\n",
    "The observation space consists of 8 variables corresponding to the position and velocity of the ball and racket.\n",
    "Each agent has only two continuous actions available:\n",
    "- Moving toward or away the net\n",
    "- Jumping"
   ]
  },
  {
   "cell_type": "code",
   "execution_count": 5,
   "metadata": {},
   "outputs": [
    {
     "name": "stdout",
     "output_type": "stream",
     "text": [
      "Number of agents: 2\n",
      "Size of each action: 2\n",
      "There are 2 agents. Each observes a state with length: 24\n",
      "The state for the first agent looks like: [ 0.          0.          0.          0.          0.          0.\n",
      "  0.          0.          0.          0.          0.          0.\n",
      "  0.          0.          0.          0.         -6.65278625 -1.5\n",
      " -0.          0.          6.83172083  6.         -0.          0.        ]\n"
     ]
    }
   ],
   "source": [
    "# reset the environment\n",
    "env_info = env.reset(train_mode=False)[brain_name]\n",
    "\n",
    "# number of agents \n",
    "num_agents = len(env_info.agents)\n",
    "print('Number of agents:', num_agents)\n",
    "\n",
    "# size of each action\n",
    "action_size = brain.vector_action_space_size\n",
    "print('Size of each action:', action_size)\n",
    "\n",
    "# examine the state space \n",
    "states = env_info.vector_observations\n",
    "state_size = states.shape[1]\n",
    "print('There are {} agents. Each observes a state with length: {}'.format(states.shape[0], state_size))\n",
    "print('The state for the first agent looks like:', states[0])"
   ]
  },
  {
   "cell_type": "markdown",
   "metadata": {},
   "source": [
    "### Note\n",
    "I definied in ihm_functions the \"Load_environment\" function. This function summarize the last cells (I.1.b to I.2). It takes as input file_name (path of the unity environment) and train_mode (training mode: True of False). It returns:\n",
    "- env\n",
    "- brain_name\n",
    "- num_agents\n",
    "- action_size\n",
    "- state_size\n",
    "\n",
    "I will use this function part II and III to load the environement."
   ]
  },
  {
   "cell_type": "markdown",
   "metadata": {},
   "source": [
    "## I.3. Take Random Actions in the Environment\n",
    "\n",
    "In the next code cell, you will learn how to use the Python API to control the agents and receive feedback from the environment.\n",
    "\n",
    "Once this cell is executed, you will watch the agents' performance, if they select actions at random with each time step.  A window should pop up that allows you to observe the agents."
   ]
  },
  {
   "cell_type": "code",
   "execution_count": 6,
   "metadata": {},
   "outputs": [
    {
     "name": "stdout",
     "output_type": "stream",
     "text": [
      "Score (max over agents) from episode 1: 0.09000000171363354\n",
      "Score (max over agents) from episode 2: 0.0\n",
      "Score (max over agents) from episode 3: 0.0\n",
      "Score (max over agents) from episode 4: 0.09000000171363354\n",
      "Score (max over agents) from episode 5: 0.10000000149011612\n"
     ]
    }
   ],
   "source": [
    "for i in range(1, 6):                                      # play game for 5 episodes\n",
    "    env_info = env.reset(train_mode=False)[brain_name]     # reset the environment    \n",
    "    states = env_info.vector_observations                  # get the current state (for each agent)\n",
    "    scores = np.zeros(num_agents)                          # initialize the score (for each agent)\n",
    "    while True:\n",
    "        actions = np.random.randn(num_agents, action_size) # select an action (for each agent)\n",
    "        actions = np.clip(actions, -1, 1)                  # all actions between -1 and 1\n",
    "        env_info = env.step(actions)[brain_name]           # send all actions to tne environment\n",
    "        next_states = env_info.vector_observations         # get next state (for each agent)\n",
    "        rewards = env_info.rewards                         # get reward (for each agent)\n",
    "        dones = env_info.local_done                        # see if episode finished\n",
    "        scores += env_info.rewards                         # update the score (for each agent)\n",
    "        states = next_states                               # roll over states to next time step\n",
    "        if np.any(dones):                                  # exit loop if episode finished\n",
    "            break\n",
    "    print('Score (max over agents) from episode {}: {}'.format(i, np.max(scores)))"
   ]
  },
  {
   "cell_type": "markdown",
   "metadata": {},
   "source": [
    "## I.4 Close environment"
   ]
  },
  {
   "cell_type": "code",
   "execution_count": 7,
   "metadata": {},
   "outputs": [],
   "source": [
    "env.close()"
   ]
  },
  {
   "cell_type": "markdown",
   "metadata": {},
   "source": [
    "# Part II: Training\n",
    "Before running this part, be sure to have run part I.1.a and b.\n",
    "In part II, you can use the code to train your own agents.\n",
    "There are 3 variations of DDPG:\n",
    "- II.1 Naive approach: one agent playing with both racket. The agent is playing against himself.\n",
    "- II.2 Multi agent DDPG with no shared memory and agents independant actor-critic networks. Each agent is trained for one side of the tennis court.\n",
    "- II.3 Multi agent DDPG with shared memory and agents independant actor-critic networks. Each agent is trained for both side of the tennis court.\n",
    "\n",
    "## II.1 DDPG: Naive approach"
   ]
  },
  {
   "cell_type": "markdown",
   "metadata": {},
   "source": [
    "In the next code cells, you can found the body of the training code I implemented for one agent to learn how to play tennis. It uses the Python API to control the agent and receive feedback from the environment.\n",
    "Here, I use the DDPG algorithm to control both racket."
   ]
  },
  {
   "cell_type": "markdown",
   "metadata": {},
   "source": [
    "### II.1.a Load environment and define agent"
   ]
  },
  {
   "cell_type": "code",
   "execution_count": 8,
   "metadata": {},
   "outputs": [
    {
     "name": "stderr",
     "output_type": "stream",
     "text": [
      "INFO:unityagents:\n",
      "'Academy' started successfully!\n",
      "Unity Academy name: Academy\n",
      "        Number of Brains: 1\n",
      "        Number of External Brains : 1\n",
      "        Lesson number : 0\n",
      "        Reset Parameters :\n",
      "\t\t\n",
      "Unity brain name: TennisBrain\n",
      "        Number of Visual Observations (per agent): 0\n",
      "        Vector Observation space type: continuous\n",
      "        Vector Observation space size (per agent): 8\n",
      "        Number of stacked Vector Observation: 3\n",
      "        Vector Action space type: continuous\n",
      "        Vector Action space size (per agent): 2\n",
      "        Vector Action descriptions: , \n"
     ]
    }
   ],
   "source": [
    "#Load environment\n",
    "env,brain_name,num_agents,action_size,state_size = Load_environment(file_name,train_mode=True)\n",
    "\n",
    "# Define agents\n",
    "agent = Agent(state_size=state_size, action_size=action_size, random_seed=10)"
   ]
  },
  {
   "cell_type": "markdown",
   "metadata": {},
   "source": [
    "### II.1.b Training"
   ]
  },
  {
   "cell_type": "markdown",
   "metadata": {},
   "source": [
    "ddpg is definied in the ihm_function.py file. It takes as input:\n",
    "- environment variables: env, env_info, state_size, action_size, brain_name,num_agents.\n",
    "- agent\n",
    "- rate is the ratio of decay applied to the noise added to each action. I add noise to action during training in order to enable the exploring of the environment.\n",
    "- number of episode (n_episodes) and number of step (max_t).\n",
    "\n",
    "It returns the scores.\n",
    "\n",
    "The ddpg function uses the baseline ddpg algorytm with the API to train the agent. It sauvegards every 100 iterations the actor-critic network and also at convergence."
   ]
  },
  {
   "cell_type": "code",
   "execution_count": 9,
   "metadata": {},
   "outputs": [
    {
     "name": "stdout",
     "output_type": "stream",
     "text": [
      "Episode 1486\tAverage Score: 0.5164000078104436\tScore: 1.9000000283122063envionment solved after {}\n",
      " 1486\n"
     ]
    }
   ],
   "source": [
    "scores = ddpg(env, state_size, action_size, brain_name,num_agents, agent,rate=0.9999,n_episodes=5000, max_t=100000)"
   ]
  },
  {
   "cell_type": "markdown",
   "metadata": {},
   "source": [
    "### II.1.b Results\n",
    "#### Score"
   ]
  },
  {
   "cell_type": "code",
   "execution_count": 10,
   "metadata": {},
   "outputs": [
    {
     "data": {
      "image/png": "[encoded data removed]",
      "text/plain": [
       "<Figure size 432x288 with 1 Axes>"
      ]
     },
     "metadata": {
      "needs_background": "light"
     },
     "output_type": "display_data"
    }
   ],
   "source": [
    "plot_score(scores)"
   ]
  },
  {
   "cell_type": "markdown",
   "metadata": {},
   "source": [
    "### 1.c Close environment"
   ]
  },
  {
   "cell_type": "code",
   "execution_count": 11,
   "metadata": {},
   "outputs": [],
   "source": [
    "env.close()"
   ]
  },
  {
   "cell_type": "markdown",
   "metadata": {},
   "source": [
    "## II.2. Multi agents DDPG without sharing replay buffer\n",
    "In the next code cells, you can found the body of the training code I implemented for multi agents with no shared replay buffer. Here, each agent get only informations about his own state and action. The agent is fully isolated. The actor-critic network as the replay buffer only use information related to the corresponding agent.\n",
    "### II.2.a Load environment and define agents"
   ]
  },
  {
   "cell_type": "code",
   "execution_count": 12,
   "metadata": {},
   "outputs": [
    {
     "name": "stderr",
     "output_type": "stream",
     "text": [
      "INFO:unityagents:\n",
      "'Academy' started successfully!\n",
      "Unity Academy name: Academy\n",
      "        Number of Brains: 1\n",
      "        Number of External Brains : 1\n",
      "        Lesson number : 0\n",
      "        Reset Parameters :\n",
      "\t\t\n",
      "Unity brain name: TennisBrain\n",
      "        Number of Visual Observations (per agent): 0\n",
      "        Vector Observation space type: continuous\n",
      "        Vector Observation space size (per agent): 8\n",
      "        Number of stacked Vector Observation: 3\n",
      "        Vector Action space type: continuous\n",
      "        Vector Action space size (per agent): 2\n",
      "        Vector Action descriptions: , \n"
     ]
    }
   ],
   "source": [
    "# Load environment\n",
    "env,brain_name,num_agents,action_size,state_size = Load_environment(file_name,train_mode=True)\n",
    "\n",
    "# Define agents\n",
    "agent = [ Agent(state_size=state_size, action_size=action_size, random_seed=10) for i in range(num_agents)]"
   ]
  },
  {
   "cell_type": "markdown",
   "metadata": {},
   "source": [
    "### II.2.b Training\n",
    "multi_ddpg is definied in ihm_function.py. It takes as input:\n",
    "- environment variables: env, state_size, action_size, brain_name,num_agents.\n",
    "- agents\n",
    "- number of episode (n_episodes) and number of step (max_t).\n",
    "- mode \n",
    "- weight_name correspond to a string using for saving the weight of the actor-critic network\n",
    "- rate corresponds to the ratio at which the noise added to an action will decrease during one episode. (We add noise in order to explore the environment).\n",
    "\n",
    "mode has two values: \n",
    "- mode = 0 for not sharing the replay buffer and (state,action,next_state,reward,done) \n",
    "- mode = 1 for sharing the replay buffer (state,action,next_state,reward,done)\n",
    "\n",
    "multi_ddpg returns the scores obtained during training. It sauvegards every 100 iterations the actor-critic network and also at convergence."
   ]
  },
  {
   "cell_type": "code",
   "execution_count": 13,
   "metadata": {},
   "outputs": [
    {
     "name": "stdout",
     "output_type": "stream",
     "text": [
      "Episode 3864\tAverage Score: 0.523700007814914\t max Score: 2.600000038743019envionment solved after {}\n",
      " 3864\n"
     ]
    }
   ],
   "source": [
    "scores = multi_ddpg(env, state_size, action_size,\\\n",
    "                    brain_name,num_agents,agent,\\\n",
    "                    n_episodes=5000, max_t=100000,\\\n",
    "                    weight_name=\"No_multi_checkpoint\",rate=0.9999,mode=0)"
   ]
  },
  {
   "cell_type": "markdown",
   "metadata": {},
   "source": [
    "### II.2.c Results\n",
    "#### Score"
   ]
  },
  {
   "cell_type": "code",
   "execution_count": 14,
   "metadata": {},
   "outputs": [
    {
     "data": {
      "image/png": "[encoded data removed]",
      "text/plain": [
       "<Figure size 432x288 with 1 Axes>"
      ]
     },
     "metadata": {
      "needs_background": "light"
     },
     "output_type": "display_data"
    }
   ],
   "source": [
    "plot_score(scores)"
   ]
  },
  {
   "cell_type": "markdown",
   "metadata": {},
   "source": [
    "###  II.2.d Close environment"
   ]
  },
  {
   "cell_type": "code",
   "execution_count": 15,
   "metadata": {},
   "outputs": [],
   "source": [
    "env.close()"
   ]
  },
  {
   "cell_type": "markdown",
   "metadata": {},
   "source": [
    "## II.3. Multi agents DDPG with shared memory replay\n",
    "In the next code cells, you can found the body of the training code I implemented for multiple agents with shared memory. It uses the Python API to control the agent and receive feedback from the environment.\n",
    "Here, each agent share a copy of the replay buffer. Both agent are trained to play at both side of the net. In otherword, the agent can swap position. However, agents do not take into account the comportement of other agents. The actor-critic network for each agent is trained using only a tuple respective to its own (state, action, next_state, next action).\n",
    "\n",
    "### II.3.a Define agents"
   ]
  },
  {
   "cell_type": "code",
   "execution_count": 16,
   "metadata": {},
   "outputs": [
    {
     "name": "stderr",
     "output_type": "stream",
     "text": [
      "INFO:unityagents:\n",
      "'Academy' started successfully!\n",
      "Unity Academy name: Academy\n",
      "        Number of Brains: 1\n",
      "        Number of External Brains : 1\n",
      "        Lesson number : 0\n",
      "        Reset Parameters :\n",
      "\t\t\n",
      "Unity brain name: TennisBrain\n",
      "        Number of Visual Observations (per agent): 0\n",
      "        Vector Observation space type: continuous\n",
      "        Vector Observation space size (per agent): 8\n",
      "        Number of stacked Vector Observation: 3\n",
      "        Vector Action space type: continuous\n",
      "        Vector Action space size (per agent): 2\n",
      "        Vector Action descriptions: , \n"
     ]
    }
   ],
   "source": [
    "# Load environment\n",
    "env,brain_name,num_agents,action_size,state_size = Load_environment(file_name,train_mode=True)\n",
    "\n",
    "# Define agents\n",
    "agent = [ Agent(state_size=state_size, action_size=action_size, random_seed=10) for i in range(num_agents)]"
   ]
  },
  {
   "cell_type": "markdown",
   "metadata": {},
   "source": [
    "### II.3.b Training\n",
    "I use the same function as in II.2 for training. Th changes are the name for the weight (\"W_multi_checkpoint\") and mode=1 for sharing (action,state, etc)"
   ]
  },
  {
   "cell_type": "code",
   "execution_count": 17,
   "metadata": {},
   "outputs": [
    {
     "name": "stdout",
     "output_type": "stream",
     "text": [
      "Episode 2504\tAverage Score: 0.5034000075235963\t max Score: 2.600000038743019envionment solved after {}\n",
      " 2504\n"
     ]
    }
   ],
   "source": [
    "weight_name=\"'W_multi_checkpoint\"\n",
    "scores = multi_ddpg(env, state_size, action_size,\\\n",
    "                    brain_name,num_agents,agent,\\\n",
    "                    n_episodes=5000, max_t=100000,\\\n",
    "                    weight_name=\"checkpoint\",rate=0.9999,mode=1)"
   ]
  },
  {
   "cell_type": "markdown",
   "metadata": {},
   "source": [
    "### II.3.c Results\n",
    "#### Score"
   ]
  },
  {
   "cell_type": "code",
   "execution_count": 18,
   "metadata": {},
   "outputs": [
    {
     "data": {
      "image/png": "[encoded data removed]",
      "text/plain": [
       "<Figure size 432x288 with 1 Axes>"
      ]
     },
     "metadata": {
      "needs_background": "light"
     },
     "output_type": "display_data"
    }
   ],
   "source": [
    "plot_score(scores)"
   ]
  },
  {
   "cell_type": "markdown",
   "metadata": {},
   "source": [
    "###  II.3.d Close environment"
   ]
  },
  {
   "cell_type": "code",
   "execution_count": 19,
   "metadata": {},
   "outputs": [],
   "source": [
    "env.close()"
   ]
  },
  {
   "cell_type": "markdown",
   "metadata": {},
   "source": [
    "# Part III. Testing\n",
    "Before running this part, be sure to have run part I.\n",
    "In part III, you can load the pre-trained weight and check for each method the result.\n",
    "There are 3 variations of DDPG:\n",
    "- II.1 Naive approach: one agent playing with both racket. The agent is playing against himself.\n",
    "- II.2 Multi agent DDPG with no shared memory and agents independant actor-critic networks. Each agent is trained for one side of the tennis court.\n",
    "- II.3 Multi agent DDPG with shared memory and agents independant actor-critic networks. Each agent is trained for both side of the tennis court"
   ]
  },
  {
   "cell_type": "markdown",
   "metadata": {},
   "source": [
    "## III.1 DDPG: test"
   ]
  },
  {
   "cell_type": "markdown",
   "metadata": {},
   "source": [
    "### III.1.a Load environment and define agent"
   ]
  },
  {
   "cell_type": "code",
   "execution_count": 20,
   "metadata": {},
   "outputs": [
    {
     "name": "stderr",
     "output_type": "stream",
     "text": [
      "INFO:unityagents:\n",
      "'Academy' started successfully!\n",
      "Unity Academy name: Academy\n",
      "        Number of Brains: 1\n",
      "        Number of External Brains : 1\n",
      "        Lesson number : 0\n",
      "        Reset Parameters :\n",
      "\t\t\n",
      "Unity brain name: TennisBrain\n",
      "        Number of Visual Observations (per agent): 0\n",
      "        Vector Observation space type: continuous\n",
      "        Vector Observation space size (per agent): 8\n",
      "        Number of stacked Vector Observation: 3\n",
      "        Vector Action space type: continuous\n",
      "        Vector Action space size (per agent): 2\n",
      "        Vector Action descriptions: , \n"
     ]
    }
   ],
   "source": [
    "# Load environment\n",
    "env,brain_name,num_agents,action_size,state_size = Load_environment(file_name,train_mode=False)\n",
    "\n",
    "# Load agents\n",
    "agent = Agent(state_size=state_size, action_size=action_size, random_seed=10)"
   ]
  },
  {
   "cell_type": "markdown",
   "metadata": {},
   "source": [
    "### III.1.b Define the weights"
   ]
  },
  {
   "cell_type": "code",
   "execution_count": 21,
   "metadata": {},
   "outputs": [],
   "source": [
    "file_name_actor='ddpg_checkpoint_actor.pth'\n",
    "file_name_critic='ddpg_checkpoint_critic.pth'"
   ]
  },
  {
   "cell_type": "markdown",
   "metadata": {},
   "source": [
    "### III.1.c Load the weight, start testing\n",
    "\n",
    "ddpg_Test load the weight and use one agent to play tennis using the python API. It takes as inputs:\n",
    "- Environment variables (env,brain_name,num_agents,agent)\n",
    "- Name of the weight to load: file_name_actor,file_name_critic\n",
    "- number of episode (n_episode) and number maximum of steps par episode (max_t)"
   ]
  },
  {
   "cell_type": "code",
   "execution_count": 22,
   "metadata": {},
   "outputs": [
    {
     "name": "stdout",
     "output_type": "stream",
     "text": [
      "Episode 4\tAverage Score: 0.20000000298023224"
     ]
    }
   ],
   "source": [
    "scores=ddpg_Test(env,brain_name,num_agents,agent,file_name_actor,file_name_critic ,n_episodes=5,max_t=100000)"
   ]
  },
  {
   "cell_type": "markdown",
   "metadata": {},
   "source": [
    "### III.1.d Display score"
   ]
  },
  {
   "cell_type": "code",
   "execution_count": 23,
   "metadata": {},
   "outputs": [
    {
     "data": {
      "image/png": "[encoded data removed]",
      "text/plain": [
       "<Figure size 432x288 with 1 Axes>"
      ]
     },
     "metadata": {
      "needs_background": "light"
     },
     "output_type": "display_data"
    }
   ],
   "source": [
    "plot_score(scores)"
   ]
  },
  {
   "cell_type": "markdown",
   "metadata": {},
   "source": [
    "### III.1.e Close environment"
   ]
  },
  {
   "cell_type": "code",
   "execution_count": 24,
   "metadata": {},
   "outputs": [],
   "source": [
    "env.close()"
   ]
  },
  {
   "cell_type": "markdown",
   "metadata": {},
   "source": [
    "## III.2 Multi agents DDPG (no shared memory): testing function"
   ]
  },
  {
   "cell_type": "markdown",
   "metadata": {},
   "source": [
    "### III.2.a Load environment and define agents"
   ]
  },
  {
   "cell_type": "code",
   "execution_count": 25,
   "metadata": {},
   "outputs": [
    {
     "name": "stderr",
     "output_type": "stream",
     "text": [
      "INFO:unityagents:\n",
      "'Academy' started successfully!\n",
      "Unity Academy name: Academy\n",
      "        Number of Brains: 1\n",
      "        Number of External Brains : 1\n",
      "        Lesson number : 0\n",
      "        Reset Parameters :\n",
      "\t\t\n",
      "Unity brain name: TennisBrain\n",
      "        Number of Visual Observations (per agent): 0\n",
      "        Vector Observation space type: continuous\n",
      "        Vector Observation space size (per agent): 8\n",
      "        Number of stacked Vector Observation: 3\n",
      "        Vector Action space type: continuous\n",
      "        Vector Action space size (per agent): 2\n",
      "        Vector Action descriptions: , \n"
     ]
    }
   ],
   "source": [
    "# Load environment\n",
    "env,brain_name,num_agents,action_size,state_size = Load_environment(file_name,train_mode=False)\n",
    "\n",
    "# Define agents\n",
    "agent = [ Agent(state_size=state_size, action_size=action_size, random_seed=10) for i in range(num_agents)]"
   ]
  },
  {
   "cell_type": "markdown",
   "metadata": {},
   "source": [
    "### III.2.b Define the weights"
   ]
  },
  {
   "cell_type": "code",
   "execution_count": 26,
   "metadata": {},
   "outputs": [],
   "source": [
    "file_name_actor=[]\n",
    "file_name_critic=[]\n",
    "for i in range(num_agents):\n",
    "    file_name_actor.append('No_multi_checkpoint_actor'+str(i)+'.pth')\n",
    "    file_name_critic.append('No_multi_checkpoint_critic'+str(i)+'.pth')"
   ]
  },
  {
   "cell_type": "markdown",
   "metadata": {},
   "source": [
    "### III.2.c Load the weights, start testing\n",
    "double_ddpg_Test load the weight and use two agents to play tennis using the python API. It takes as inputs:\n",
    "- Environment variables (env,brain_name,num_agents,agent)\n",
    "- Name of the weight to load: file_name_actor,file_name_critic\n",
    "- number of episode (n_episode) and number maximum of steps par episode (max_t)"
   ]
  },
  {
   "cell_type": "code",
   "execution_count": 27,
   "metadata": {},
   "outputs": [
    {
     "name": "stdout",
     "output_type": "stream",
     "text": [
      "Episode 4\tAverage Score: 0.50000000745058066"
     ]
    }
   ],
   "source": [
    "scores=double_ddpg_Test(env,brain_name,num_agents,agent,file_name_actor,file_name_critic ,n_episodes=5,max_t=100000)"
   ]
  },
  {
   "cell_type": "markdown",
   "metadata": {},
   "source": [
    "### III.2.d Display score"
   ]
  },
  {
   "cell_type": "code",
   "execution_count": 28,
   "metadata": {},
   "outputs": [
    {
     "data": {
      "image/png": "[encoded data removed]",
      "text/plain": [
       "<Figure size 432x288 with 1 Axes>"
      ]
     },
     "metadata": {
      "needs_background": "light"
     },
     "output_type": "display_data"
    }
   ],
   "source": [
    "plot_score(scores)"
   ]
  },
  {
   "cell_type": "markdown",
   "metadata": {},
   "source": [
    "### III.2.e Close environment"
   ]
  },
  {
   "cell_type": "code",
   "execution_count": 29,
   "metadata": {},
   "outputs": [],
   "source": [
    "env.close()"
   ]
  },
  {
   "cell_type": "markdown",
   "metadata": {},
   "source": [
    "## III.3 Multi agents DDPG (with shared memory): testing function\n",
    "### III.3.a Load environment and define agents"
   ]
  },
  {
   "cell_type": "code",
   "execution_count": 37,
   "metadata": {},
   "outputs": [
    {
     "name": "stderr",
     "output_type": "stream",
     "text": [
      "INFO:unityagents:\n",
      "'Academy' started successfully!\n",
      "Unity Academy name: Academy\n",
      "        Number of Brains: 1\n",
      "        Number of External Brains : 1\n",
      "        Lesson number : 0\n",
      "        Reset Parameters :\n",
      "\t\t\n",
      "Unity brain name: TennisBrain\n",
      "        Number of Visual Observations (per agent): 0\n",
      "        Vector Observation space type: continuous\n",
      "        Vector Observation space size (per agent): 8\n",
      "        Number of stacked Vector Observation: 3\n",
      "        Vector Action space type: continuous\n",
      "        Vector Action space size (per agent): 2\n",
      "        Vector Action descriptions: , \n"
     ]
    }
   ],
   "source": [
    "# Load environment\n",
    "env, brain_name, num_agents, action_size, state_size = Load_environment(file_name,train_mode=False)\n",
    "\n",
    "# Define agents\n",
    "agent = [Agent(state_size=state_size, action_size=action_size, random_seed=10) for i in range(num_agents)]"
   ]
  },
  {
   "cell_type": "markdown",
   "metadata": {},
   "source": [
    "### III.3.b Define the weights"
   ]
  },
  {
   "cell_type": "code",
   "execution_count": 38,
   "metadata": {},
   "outputs": [],
   "source": [
    "file_name_actor=[]\n",
    "file_name_critic=[]\n",
    "for i in range(num_agents):\n",
    "    file_name_actor.append('W_multi_checkpoint_actor'+str(i)+'.pth')\n",
    "    file_name_critic.append('W_multi_checkpoint_critic'+str(i)+'.pth')"
   ]
  },
  {
   "cell_type": "markdown",
   "metadata": {},
   "source": [
    "### III.3.c Load the weights, start testing"
   ]
  },
  {
   "cell_type": "code",
   "execution_count": 39,
   "metadata": {},
   "outputs": [
    {
     "name": "stdout",
     "output_type": "stream",
     "text": [
      "Episode 4\tAverage Score: 1.00000001490116126"
     ]
    }
   ],
   "source": [
    "scores=double_ddpg_Test(env,brain_name,num_agents,agent,file_name_actor,file_name_critic ,n_episodes=5,max_t=100000)"
   ]
  },
  {
   "cell_type": "markdown",
   "metadata": {},
   "source": [
    "### III.3.d Display score"
   ]
  },
  {
   "cell_type": "code",
   "execution_count": 40,
   "metadata": {
    "scrolled": true
   },
   "outputs": [
    {
     "data": {
      "image/png": "[encoded data removed]",
      "text/plain": [
       "<Figure size 432x288 with 1 Axes>"
      ]
     },
     "metadata": {
      "needs_background": "light"
     },
     "output_type": "display_data"
    }
   ],
   "source": [
    "plot_score(scores)"
   ]
  },
  {
   "cell_type": "markdown",
   "metadata": {},
   "source": [
    "### III.3.e End of testing"
   ]
  },
  {
   "cell_type": "code",
   "execution_count": 41,
   "metadata": {},
   "outputs": [],
   "source": [
    "env.close()"
   ]
  },
  {
   "cell_type": "code",
   "execution_count": null,
   "metadata": {},
   "outputs": [],
   "source": []
  },
  {
   "cell_type": "code",
   "execution_count": null,
   "metadata": {},
   "outputs": [],
   "source": [
    " "
   ]
  },
  {
   "cell_type": "code",
   "execution_count": null,
   "metadata": {},
   "outputs": [],
   "source": []
  }
 ],
 "metadata": {
  "kernelspec": {
   "display_name": "Python 3",
   "language": "python",
   "name": "python3"
  },
  "language_info": {
   "codemirror_mode": {
    "name": "ipython",
    "version": 3
   },
   "file_extension": ".py",
   "mimetype": "text/x-python",
   "name": "python",
   "nbconvert_exporter": "python",
   "pygments_lexer": "ipython3",
   "version": "3.5.2"
  }
 },
 "nbformat": 4,
 "nbformat_minor": 2
}
